{
 "cells": [
  {
   "cell_type": "code",
   "execution_count": 10,
   "metadata": {},
   "outputs": [
    {
     "name": "stdout",
     "output_type": "stream",
     "text": [
      "database exists\n",
      "table exists\n",
      "((5, 'asd'),)\n"
     ]
    }
   ],
   "source": [
    "import pymysql\n",
    "conn = pymysql.connect(host=\"cc104.mysql.local\", user=\"root\",password=\"iii\",charset=\"utf8\")\n",
    "connlab = pymysql.connect(user=\"root\", host=\"cc104.mysql.local\", passwd=\"iii\", db=\"lab\",  charset=\"utf8\")\n",
    "#======================================================\n",
    "# new database\n",
    "#開啟\n",
    "cur = conn.cursor()\n",
    "#新增database\n",
    "try:\n",
    "    cur.execute('''CREATE DATABASE lab;''')\n",
    "except:\n",
    "    print (\"database exists\")\n",
    "#關閉\n",
    "cur.close()\n",
    "\n",
    "\n",
    "# new table\n",
    "connlab = pymysql.connect(user=\"root\", host=\"cc104.mysql.local\", passwd=\"iii\", db=\"lab\",  charset=\"utf8\")\n",
    "#開啟\n",
    "cur = connlab.cursor()\n",
    "#新增table\n",
    "try:\n",
    "    cur.execute('''CREATE TABLE name (\n",
    "                        id integer UNSIGNED AUTO_INCREMENT,\n",
    "                        name varchar(10),\n",
    "                        PRIMARY KEY(id)\n",
    "                    )DEFAULT CHARSET=utf8;\n",
    "                ''')\n",
    "except:\n",
    "    print (\"table exists\")\n",
    "#關閉\n",
    "cur.close()\n",
    "#======================================================\n",
    "def add_data(add):\n",
    "    # add data\n",
    "    #開啟\n",
    "    cur = connlab.cursor()\n",
    "        #加入資料\n",
    "    sql = '''INSERT INTO name (name) VALUES (%s);''' \n",
    "    data = (repr(add))\n",
    "    cur.execute(sql % data)\n",
    "\n",
    "    conn.commit()\n",
    "        #關閉\n",
    "    cur.close()\n",
    "\n",
    "def showdata():\n",
    "    # check data\n",
    "    #開啟\n",
    "    cur = connlab.cursor()\n",
    "    #查詢資料\n",
    "    cur.execute('''select * from name;''')\n",
    "\n",
    "    print (cur.fetchall() )\n",
    "\n",
    "    #關閉\n",
    "    cur.close()\n",
    "#========================================================\n",
    "add_data(\"asd\")\n",
    "showdata()"
   ]
  },
  {
   "cell_type": "code",
   "execution_count": 11,
   "metadata": {},
   "outputs": [
    {
     "name": "stdout",
     "output_type": "stream",
     "text": [
      "((5, 'asd'),)\n"
     ]
    },
    {
     "data": {
      "text/plain": [
       "NoneType"
      ]
     },
     "execution_count": 11,
     "metadata": {},
     "output_type": "execute_result"
    }
   ],
   "source": [
    "type(showdata())"
   ]
  }
 ],
 "metadata": {
  "kernelspec": {
   "display_name": "Python 3",
   "language": "python",
   "name": "python3"
  },
  "language_info": {
   "codemirror_mode": {
    "name": "ipython",
    "version": 3
   },
   "file_extension": ".py",
   "mimetype": "text/x-python",
   "name": "python",
   "nbconvert_exporter": "python",
   "pygments_lexer": "ipython3",
   "version": "3.7.3"
  }
 },
 "nbformat": 4,
 "nbformat_minor": 2
}
